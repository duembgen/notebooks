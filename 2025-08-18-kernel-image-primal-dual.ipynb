{
 "cells": [
  {
   "cell_type": "markdown",
   "metadata": {},
   "source": [
    "# Kernel-Image-Primal-Dual: A Practical Guide\n",
    "\n",
    "This notebook provides the code for the blog post *\"Kernel-Image-Primal-Dual: Navigating SDP Formulations\"*. We use `cvxpy` to implement the four different semidefinite programming (SDP) formulations for checking if a polynomial is a sum of squares (SOS).\n",
    "\n",
    "We will focus on the example from the blog post: a univariate polynomial of degree 4:\n",
    "$$ p(x) = p_0 + p_1x + p_2x^2 + p_3x^3 + p_4x^4 $$\n",
    "\n",
    "This polynomial is a sum of squares if $p(x) = \\mathbf{v}(x)^\\top \\mathbf{X} \\mathbf{v}(x)$ for some positive semidefinite Gram matrix $\\mathbf{X} \\succeq 0$, where the monomial basis is $\\mathbf{v}(x) = [1, x, x^2]^\\top$."
   ]
  },
  {
   "cell_type": "code",
   "execution_count": null,
   "metadata": {},
   "outputs": [],
   "source": [
    "import cvxpy as cp\n",
    "import numpy as np\n",
    "import time\n",
    "\n",
    "# Set numpy print options for better readability\n",
    "np.set_printoptions(precision=4, suppress=True)"
   ]
  },
  {
   "cell_type": "markdown",
   "metadata": {},
   "source": [
    "## Setup: Defining the Problem Matrices\n",
    "\n",
    "First, we define the matrices $\\mathbf{A}_i$, $\\mathbf{B}_j$, and $\\mathbf{Y}(\\mathbf{p})$ that constitute the building blocks of our four formulations. These are derived directly from the coefficient-matching conditions described in the blog post."
   ]
  },
  {
   "cell_type": "code",
   "execution_count": null,
   "metadata": {},
   "outputs": [],
   "source": [
    "# The coefficient-matching matrices A_i for the constraint <X, A_i> = p_i\n",
    "A = [\n",
    "    np.array([[1, 0, 0], [0, 0, 0], [0, 0, 0]]), # A_0 for p_0\n",
    "    np.array([[0, 1, 0], [1, 0, 0], [0, 0, 0]]), # A_1 for p_1\n",
    "    np.array([[0, 0, 1], [0, 1, 0], [1, 0, 0]]), # A_2 for p_2\n",
    "    np.array([[0, 0, 0], [0, 0, 1], [0, 1, 0]]), # A_3 for p_3\n",
    "    np.array([[0, 0, 0], [0, 0, 0], [0, 0, 1]])  # A_4 for p_4\n",
    "]\n",
    "\n",
    "# The matrix B_1 for the null space of the coefficient-matching operator\n",
    "B = [\n",
    "    np.array([[0, 0, -0.5], [0, 1, 0], [-0.5, 0, 0]])\n",
    "]\n",
    "\n",
    "# A function to construct the matrix Y(p) from the polynomial coefficients p\n",
    "def get_Y(p_coeffs):\n",
    "    p0, p1, p2, p3, p4 = p_coeffs\n",
    "    return np.array([\n",
    "        [p0,    p1/2, 0],\n",
    "        [p1/2,  p2,   p3/2],\n",
    "        [0,     p3/2, p4]\n",
    "    ])\n"
   ]
  },
  {
   "cell_type": "markdown",
   "metadata": {},
   "source": [
    "## The Four Formulations"
   ]
  },
  {
   "cell_type": "code",
   "execution_count": null,
   "metadata": {},
   "outputs": [],
   "source": [
    "def solve_primal_kernel(p_coeffs, A_matrices):\n",
    "    \"\"\"Solves the (P-K) Primal Kernel Problem.\"\"\"\n",
    "    X = cp.Variable((3, 3), symmetric=True)\n",
    "    \n",
    "    constraints = [\n",
    "        cp.trace(A_matrices[i] @ X) == p_coeffs[i] for i in range(len(p_coeffs))\n",
    "    ]\n",
    "    constraints.append(X >> 0)\n",
    "    \n",
    "    problem = cp.Problem(cp.Minimize(0), constraints)\n",
    "    start_time = time.time()\n",
    "    problem.solve(solver=cp.CVXOPT)\n",
    "    end_time = time.time()\n",
    "\n",
    "    dual_variables = [c.dual_value for c in constraints]\n",
    "    \n",
    "    return X.value, dual_variables, problem.status, end_time - start_time\n",
    "\n",
    "def solve_primal_image(p_coeffs, B_matrices):\n",
    "    \"\"\"Solves the (P-I) Primal Image Problem.\"\"\"\n",
    "    s = cp.Variable(len(B_matrices))\n",
    "    Y_p = get_Y(p_coeffs)\n",
    "    \n",
    "    # In this example, there is only one slack variable s_0\n",
    "    constraint = (Y_p + s[0] * B_matrices[0] >> 0)\n",
    "    \n",
    "    problem = cp.Problem(cp.Minimize(0), [constraint])\n",
    "    start_time = time.time()\n",
    "    problem.solve(solver=cp.CVXOPT)\n",
    "    end_time = time.time()\n",
    "    \n",
    "    # Reconstruct the Gram matrix X if a solution is found\n",
    "    X_sol = None\n",
    "    if s.value is not None:\n",
    "        X_sol = Y_p + s.value[0] * B_matrices[0]\n",
    "        \n",
    "    return X_sol, constraint.dual_value, problem.status, end_time - start_time\n",
    "\n",
    "def solve_dual_kernel(p_coeffs, A_matrices):\n",
    "    \"\"\"Solves the (D-K) Dual Kernel Problem.\"\"\"\n",
    "    lambda_vars = cp.Variable(len(p_coeffs))\n",
    "    \n",
    "    constraints = [\n",
    "        lambda_vars @ p_coeffs == -1,\n",
    "        cp.sum([lambda_vars[i] * A_matrices[i] for i in range(len(p_coeffs))]) >> 0\n",
    "    ]\n",
    "    \n",
    "    problem = cp.Problem(cp.Minimize(0), constraints)\n",
    "    start_time = time.time()\n",
    "    problem.solve(solver=cp.CVXOPT)\n",
    "    end_time = time.time()\n",
    "\n",
    "    dual_variables = [c.dual_value for c in constraints]\n",
    "    return lambda_vars.value, dual_variables, problem.status, end_time - start_time\n",
    "\n",
    "def solve_dual_image(p_coeffs, B_matrices):\n",
    "    \"\"\"Solves the (D-I) Dual Image Problem.\"\"\"\n",
    "    X = cp.Variable((3, 3), symmetric=True)\n",
    "    Y_p = get_Y(p_coeffs)\n",
    "    \n",
    "    constraints = [\n",
    "        cp.trace(Y_p.T @ X) == -1,\n",
    "        cp.trace(B_matrices[0].T @ X) == 0,\n",
    "        X >> 0\n",
    "    ]\n",
    "    \n",
    "    problem = cp.Problem(cp.Minimize(0), constraints)\n",
    "    start_time = time.time()\n",
    "    problem.solve(solver=cp.CVXOPT)\n",
    "    end_time = time.time()\n",
    "\n",
    "    dual_variables = [c.dual_value for c in constraints]\n",
    "    return X.value, dual_variables, problem.status, end_time - start_time"
   ]
  },
  {
   "cell_type": "markdown",
   "metadata": {},
   "source": [
    "## Case 1: A Feasible SOS Problem\n",
    "\n",
    "Let's test the formulations on a polynomial that is known to be a sum of squares, for example:\n",
    "$p(x) = (1+x^2)^2 = 1 + 2x^2 + x^4$.\n",
    "\n",
    "The coefficient vector is $\\mathbf{p} = [1, 0, 2, 0, 1]$."
   ]
  },
  {
   "cell_type": "code",
   "execution_count": null,
   "metadata": {},
   "outputs": [],
   "source": [
    "p_feasible = np.array([1., 0., 2., 0., 1.])\n",
    "\n",
    "print(\"--- Testing Feasible SOS Problem ---\")\n",
    "print(f\"p(x) = {p_feasible[0]} + {p_feasible[2]}x^2 + {p_feasible[4]}x^4\\n\")\n",
    "\n",
    "# (P-K)\n",
    "X_pk, d_pk, status, t = solve_primal_kernel(p_feasible, A)\n",
    "print(f\"(P-K) Primal Kernel: Status='{status}', Time={t:.4f}s\")\n",
    "print(f\"Gram matrix X:\\n{X_pk}\")\n",
    "print(f\"Dual values:\\n{d_pk}\\n\")\n",
    "\n",
    "# (P-I)\n",
    "X_pi, d_pi, status, t = solve_primal_image(p_feasible, B)\n",
    "print(f\"(P-I) Primal Image:  Status='{status}', Time={t:.4f}s\")\n",
    "print(f\"Gram matrix X:\\n{X_pi}\")\n",
    "print(f\"Dual values:\\n{d_pi}\\n\")\n",
    "\n",
    "# (D-K)\n",
    "# For a feasible primal, the dual is also feasible. A non-zero solution is a certificate.\n",
    "# However, CVXOPT may find the trivial solution lambda=0 if the primal is strictly feasible.\n",
    "L_dk, d_dk, status, t = solve_dual_kernel(p_feasible, A)\n",
    "print(f\"(D-K) Dual Kernel:   Status='{status}', Time={t:.4f}s\")\n",
    "print(f\"Lambda variables:\\n{L_dk}\")\n",
    "print(f\"Dual values:\\n{d_dk}\\n\")\n",
    "\n",
    "# (D-I)\n",
    "# For a feasible primal, the dual is also feasible. X=0 is a trivial solution.\n",
    "X_di, d_di, status, t = solve_dual_image(p_feasible, B)\n",
    "print(f\"(D-I) Dual Image:    Status='{status}', Time={t:.4f}s\")\n",
    "print(f\"Dual matrix X:\\n{X_di}\")\n",
    "print(f\"Dual values:\\n{d_di}\\n\")\n"
   ]
  },
  {
   "cell_type": "markdown",
   "metadata": {},
   "source": [
    "As expected, both primal forms find a valid Gram matrix $\\mathbf{X} \\succeq 0$. Note that they might find different valid matrices, as the solution is not unique. Both dual problems are infeasible. "
   ]
  },
  {
   "cell_type": "markdown",
   "metadata": {},
   "source": [
    "## Case 2: An Infeasible (Not SOS) Problem\n",
    "\n",
    "Now, let's try a polynomial that is not a sum of squares because it is not non-negative. For a univariate polynomial, not being non-negative is a sufficient condition for not being SOS.\n",
    "\n",
    "$p(x) = 2x^4 - 3x^2 - 1$.\n",
    "\n",
    "The coefficient vector is $\\mathbf{p} = [-1, 0, -3, 0, 2]$. This problem is infeasible because $p_0 = -1$, which requires the top-left element of the Gram matrix ($X_{00}$) to be negative, violating the positive semidefinite condition."
   ]
  },
  {
   "cell_type": "code",
   "execution_count": null,
   "metadata": {},
   "outputs": [],
   "source": [
    "p_infeasible = np.array([-1., 0., -3., 0., 2.])\n",
    "\n",
    "print(\"--- Testing Infeasible (Not SOS) Problem ---\")\n",
    "print(f\"p(x) = {p_infeasible[0]} + {p_infeasible[2]}x^2 + {p_infeasible[4]}x^4\\n\")\n",
    "\n",
    "# (P-K)\n",
    "X_pk, d_pk, status, t = solve_primal_kernel(p_infeasible, A)\n",
    "print(f\"(P-K) Primal Kernel: Status='{status}', Time={t:.4f}s\")\n",
    "print(f\"Gram matrix X: {X_pk}\\n\")\n",
    "\n",
    "# (P-I)\n",
    "X_pi, d_pi, status, t = solve_primal_image(p_infeasible, B)\n",
    "print(f\"(P-I) Primal Image:  Status='{status}', Time={t:.4f}s\")\n",
    "print(f\"Gram matrix X: {X_pi}\\n\")\n",
    "\n",
    "# (D-K)\n",
    "# For an infeasible primal, the dual problem provides a certificate of infeasibility.\n",
    "L_dk, d_dk, status, t = solve_dual_kernel(p_infeasible, A)\n",
    "print(f\"(D-K) Dual Kernel:   Status='{status}', Time={t:.4f}s\")\n",
    "print(f\"Lambda variables:\\n{L_dk}\\n\")\n",
    "\n",
    "# (D-I)\n",
    "# When (P-I) is infeasible, its dual is typically unbounded. CVXPY reports this as 'infeasible'.\n",
    "# This is because the feasibility problem we wrote has an optimal value of -inf.\n",
    "X_di, d_di, status, t = solve_dual_image(p_infeasible, B)\n",
    "print(f\"(D-I) Dual Image:    Status='{status}', Time={t:.4f}s\")\n",
    "print(f\"Certificate matrix X: {X_di}\\n\")"
   ]
  },
  {
   "cell_type": "markdown",
   "metadata": {},
   "source": [
    "Here, the results are flipped. The primal problems (P-K) and (P-I) are correctly identified as infeasible, meaning no SOS decomposition exists. \n",
    "\n",
    "Conversely, the dual problems (D-K) and (D-I) are feasible. These solutions act as a formal *certificates* proving that the primal problems are infeasible. "
   ]
  }
 ],
 "metadata": {
  "kernelspec": {
   "display_name": "Python 3 (ipykernel)",
   "language": "python",
   "name": "python3"
  },
  "language_info": {
   "codemirror_mode": {
    "name": "ipython",
    "version": 3
   },
   "file_extension": ".py",
   "mimetype": "text/x-python",
   "name": "python",
   "nbconvert_exporter": "python",
   "pygments_lexer": "ipython3",
   "version": "3.10.18"
  }
 },
 "nbformat": 4,
 "nbformat_minor": 4
}
